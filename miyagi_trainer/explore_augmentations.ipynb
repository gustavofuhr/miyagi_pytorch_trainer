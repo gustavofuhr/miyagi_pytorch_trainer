{
 "cells": [
  {
   "cell_type": "markdown",
   "id": "0",
   "metadata": {},
   "source": [
    "## Explore miyagi augmentations\n",
    "\n",
    "This notebook is intended to explore what the pre-defined augmentations will do to your data."
   ]
  },
  {
   "cell_type": "code",
   "execution_count": null,
   "id": "1",
   "metadata": {},
   "outputs": [],
   "source": [
    "DATASET_DIR = \"/home/gfuhr/projects/data/liveness/controlid_liveness_ds_5/IR/train\"\n",
    "RESIZE_SIZE = 192\n",
    "BATCH_SIZE = 32\n",
    "AUGMENTATION = \"liveness_single\"  # \"noaug\", \"simple\", \"random_erase\", \"liveness_single\"\n",
    "\n",
    "import os, random\n",
    "import torch\n",
    "from PIL import Image\n",
    "import numpy as np\n",
    "import ipyplot\n",
    "import augmentations\n",
    "\n",
    "train_tf, _ = augmentations.get_augmentations(RESIZE_SIZE, AUGMENTATION)\n",
    "noaug_tf, _ = augmentations.get_augmentations(RESIZE_SIZE, \"noaug\")\n",
    "\n",
    "files = []\n",
    "for root, _, fnames in os.walk(DATASET_DIR):\n",
    "    for f in fnames:\n",
    "        if f.lower().endswith((\".jpg\",\".png\",\".jpeg\")):\n",
    "            files.append(os.path.join(root, f))\n",
    "\n",
    "sample_files = random.sample(files, BATCH_SIZE)\n",
    "\n",
    "imgs_aug = [train_tf(Image.open(f).convert(\"RGB\")) for f in sample_files]\n",
    "imgs_noaug = [noaug_tf(Image.open(f).convert(\"RGB\")) for f in sample_files]\n",
    "\n",
    "imgs_aug = torch.stack(imgs_aug)\n",
    "imgs_noaug = torch.stack(imgs_noaug)\n",
    "\n",
    "def denorm(img):\n",
    "    mean = torch.tensor([0.485, 0.456, 0.406]).view(3,1,1)\n",
    "    std = torch.tensor([0.229, 0.224, 0.225]).view(3,1,1)\n",
    "    img = img*std + mean\n",
    "    return (img.permute(1,2,0).numpy()*255).astype(np.uint8)\n",
    "\n",
    "imgs_aug_np = [denorm(im) for im in imgs_aug]\n",
    "imgs_noaug_np = [denorm(im) for im in imgs_noaug]\n",
    "\n",
    "print(\"No augmentation:\")\n",
    "ipyplot.plot_images(imgs_noaug_np, [f\"{i}_noaug\" for i in range(BATCH_SIZE)], max_images=BATCH_SIZE)\n",
    "\n",
    "print(\"With augmentation:\")\n",
    "ipyplot.plot_images(imgs_aug_np, [f\"{i}_aug\" for i in range(BATCH_SIZE)], max_images=BATCH_SIZE)\n"
   ]
  }
 ],
 "metadata": {
  "kernelspec": {
   "display_name": ".ac_liveness",
   "language": "python",
   "name": "python3"
  },
  "language_info": {
   "codemirror_mode": {
    "name": "ipython",
    "version": 3
   },
   "file_extension": ".py",
   "mimetype": "text/x-python",
   "name": "python",
   "nbconvert_exporter": "python",
   "pygments_lexer": "ipython3",
   "version": "3.10.12"
  }
 },
 "nbformat": 4,
 "nbformat_minor": 5
}
